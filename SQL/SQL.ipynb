{
 "cells": [
  {
   "cell_type": "code",
   "execution_count": 1,
   "metadata": {
    "id": "PWj0e3bLzj0a"
   },
   "outputs": [],
   "source": [
    "import pandas as pd\n",
    "from sqlalchemy import create_engine\n",
    "from IPython.display import display"
   ]
  },
  {
   "cell_type": "code",
   "execution_count": 2,
   "metadata": {
    "id": "kco_Y6QPzsRW"
   },
   "outputs": [],
   "source": [
    "username = 'bionformatic'\n",
    "password = 'RnFVwNFY3gyUcdz'\n",
    "host = '188.170.2.5'\n",
    "port = '5432'\n",
    "database = 'bioinformatical'\n",
    "engine = create_engine(f'postgresql+psycopg2://{username}:{password}@{host}:{port}/{database}')"
   ]
  },
  {
   "cell_type": "code",
   "execution_count": 43,
   "metadata": {
    "colab": {
     "base_uri": "https://localhost:8080/"
    },
    "id": "0fq8BjW00bKV",
    "outputId": "87a563f9-af3e-439c-b390-973f55067d91"
   },
   "outputs": [
    {
     "data": {
      "text/plain": [
       "3"
      ]
     },
     "execution_count": 43,
     "metadata": {},
     "output_type": "execute_result"
    }
   ],
   "source": [
    "table = pd.read_csv('test_sql.tsv', sep='\\t')  # Сюда написать название таблцы, которую нужно выложить в бд\n",
    "table.to_sql(\n",
    "    name='genetic_variants_public',  # Имя нашей таблицы в бд\n",
    "    con=engine,                      # Подключение к бд\n",
    "    if_exists='append',              # Добавление данных в бд (или 'replace' для перезаписи)\n",
    "    index=False                      # Не записывать индекс DataFrame как отдельную колонку\n",
    ")"
   ]
  },
  {
   "cell_type": "code",
   "execution_count": null,
   "metadata": {
    "colab": {
     "base_uri": "https://localhost:8080/"
    },
    "id": "nPu-UvXN7vgb",
    "outputId": "8b1030ed-b990-4a78-ad85-a0ef4cc64f0e"
   },
   "outputs": [
    {
     "name": "stdout",
     "output_type": "stream",
     "text": [
      "  culture_rus     culture_lat culture_eng genome_version_original marker_type chr_original pos_start_original pos_end_original    genome_version chr_id          chr   pos_start     pos_end ref alt minor_allele country region feature_category                 feature analysis_tool allele_value a1   p_value is_in_gene    impact gene_id  year                      doi raw_data_genotypes raw_data_phenotypes\n",
      "0         Соя  Glycine max L.     Soybean              Wm82.a1.v1         SNP         Gm06             399885           399885  Glycine_max_v4.0      6  NC_038242.2    397941.0    397941.0   C   T            T    None   None          Protein  Amino_acid_content_Ala    CMLM_Gapit         None  T  0.057955       None  -0.28382    None  2019  10.3389/fpls.2019.01445               None                None\n",
      "1         Соя  Glycine max L.     Soybean              Wm82.a1.v1         SNP         Gm07           39077446         39077446  Glycine_max_v4.0      7         None         NaN         NaN   A   G            G    None   None          Protein  Amino_acid_content_Ala    CMLM_Gapit         None  G  0.000504       None  -0.48338    None  2019  10.3389/fpls.2019.01445               None                None\n",
      "2         Соя  Glycine max L.     Soybean              Wm82.a1.v1         SNP         Gm08           14156183         14156183  Glycine_max_v4.0      8         None         NaN         NaN   T   A            T    None   None          Protein  Amino_acid_content_Ala    CMLM_Gapit         None  T  0.025533       None  0.623892    None  2019  10.3389/fpls.2019.01445               None                None\n",
      "3         Соя  Glycine max L.     Soybean              Wm82.a1.v1         SNP         Gm06             399885           399885  Glycine_max_v4.0      6  NC_038242.2    397941.0    397941.0   C   T            T    None   None          Protein  Amino_acid_content_Ala    CMLM_Gapit         None  T  0.057955       None  -0.28382    None  2019  10.3389/fpls.2019.01445               None                None\n",
      "4         Соя  Glycine max L.     Soybean              Wm82.a1.v1         SNP         Gm07           39077446         39077446  Glycine_max_v4.0      7  NC_038243.2  39360604.0  39360604.0   A   G            G    None   None          Protein  Amino_acid_content_Ala    CMLM_Gapit         None  G  0.000504       None  -0.48338    None  2019  10.3389/fpls.2019.01445               None                None\n"
     ]
    }
   ],
   "source": [
    "query = \"SELECT * FROM genetic_variants_public\" # Посмотреть, что мы наделали\n",
    "with engine.connect() as conn:\n",
    "    result_df = pd.read_sql_query(query, conn)\n",
    "print(result_df.head())"
   ]
  }
 ],
 "metadata": {
  "colab": {
   "provenance": []
  },
  "kernelspec": {
   "display_name": "Python 3",
   "name": "python3"
  },
  "language_info": {
   "name": "python"
  }
 },
 "nbformat": 4,
 "nbformat_minor": 0
}
